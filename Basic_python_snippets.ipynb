{
 "cells": [
  {
   "cell_type": "code",
   "execution_count": 4,
   "metadata": {},
   "outputs": [
    {
     "data": {
      "text/plain": [
       "'987654321'"
      ]
     },
     "execution_count": 4,
     "metadata": {},
     "output_type": "execute_result"
    }
   ],
   "source": [
    "''' THIS IS ONLY FOR REFERENCE AND DO RUN AS IT IS. PLEASE MARK THE BLOCKS WITH\n",
    "COMMENT AND UNCOMMENT TO TEST THE SAME\n",
    "'''\n",
    "# comments\n",
    "# wokring with numbers - int and float (long and complex not used much)\n",
    "\n",
    "# working with strings - [start:end:steps], start postion, end no of chars\n",
    "string='123456789'\n",
    "string[:] # will print all characters\n",
    "string[2:] # from 3rd postion\n",
    "string[:2] # from 0 to 2-1 postion\n",
    "string[2:4] # from 2 to 4-1 postion\n",
    "string[0:4] # from 0 to 4-1 postion\n",
    "string[0:9] # all\n",
    "string[0:9:3] # jump in 3 steps\n",
    "string[9:0:-1] # negetive sequence\n",
    "string[::-1] # negetive sequence\n",
    "\n"
   ]
  },
  {
   "cell_type": "code",
   "execution_count": 8,
   "metadata": {},
   "outputs": [
    {
     "name": "stdout",
     "output_type": "stream",
     "text": [
      "Enter weight in Kgs:12\n",
      "Weight in Pounds: 26.400000000000002\n",
      "India increased their medal tally to 25 in 18th asian games\n",
      "12\n"
     ]
    }
   ],
   "source": [
    "# program to find the weight in pounds by accepting kgs\n",
    "Weight=int(input('Enter weight in Kgs:')) #input is alwasy string\n",
    "print ('Weight in Pounds:',Weight*2.2)\n",
    "\n",
    "print('India increased their medal tally to 25 in 18th asian games') # \\ used to terminate the line\n",
    "\n",
    "print(Weight) # will fail due case senstivity\n"
   ]
  },
  {
   "cell_type": "code",
   "execution_count": 9,
   "metadata": {},
   "outputs": [
    {
     "name": "stdout",
     "output_type": "stream",
     "text": [
      "Enter your calculations:12\n",
      "Total = : 12\n"
     ]
    }
   ],
   "source": [
    "# calculator program, eval\n",
    "Total=eval(input('Enter your calculations:'))\n",
    "print ('Total = :',Total)"
   ]
  },
  {
   "cell_type": "code",
   "execution_count": 10,
   "metadata": {},
   "outputs": [
    {
     "name": "stdout",
     "output_type": "stream",
     "text": [
      "Rohit Sharma\n",
      "Rohit \n",
      " Sharma\n",
      "Rohit...\n",
      "...Sharma\n"
     ]
    }
   ],
   "source": [
    "#print name in two lines, understand \\n and sep\n",
    "fname='Rohit'\n",
    "lname='Sharma'\n",
    "print(fname,lname)\n",
    "print(fname,'\\n',lname)\n",
    "print(fname,'\\n',lname,sep='...')\n",
    "\n"
   ]
  },
  {
   "cell_type": "code",
   "execution_count": 11,
   "metadata": {},
   "outputs": [
    {
     "name": "stdout",
     "output_type": "stream",
     "text": [
      "Enter weight in Kgs:12\n",
      "Enter height in feet:12\n",
      "BMI is  Below Normal  value is  0.9017197599261313\n"
     ]
    }
   ],
   "source": [
    "# bmi calculator, intro to if statement\n",
    "Weight=int(input('Enter weight in Kgs:')) #input is alwasy string\n",
    "Height=float(input('Enter height in feet:')) # float outcome\n",
    "#Height=eval(input('Enter height in feet:')) # will handle both\n",
    "\n",
    "bmi=Weight/((Height*.304)**2) # formula is W/M^2\n",
    "if bmi > 24.9: # if statement :\n",
    "    bmiIndicator = 'Above Normal'\n",
    "    bmiStat=3\n",
    "elif bmi < 18.5:        # else if\n",
    "    bmiIndicator = 'Below Normal'\n",
    "    bmiStat=2\n",
    "else:\n",
    "    bmiIndicator='Normal'\n",
    "    bmiStat=1\n",
    "print ('BMI is ',bmiIndicator,' value is ',bmi) # handling decimals will be later\n",
    "\n"
   ]
  },
  {
   "cell_type": "code",
   "execution_count": 12,
   "metadata": {},
   "outputs": [
    {
     "name": "stdout",
     "output_type": "stream",
     "text": [
      "Enter your heart rate: 12\n",
      "heartRate is Below Normal value is  12\n"
     ]
    }
   ],
   "source": [
    "# heart rate status finder\n",
    "heartRate=eval(input('Enter your heart rate: '))\n",
    "if heartRate > 100: # if statement :\n",
    "    heartIndicator = 'Above Normal'\n",
    "    heartStat=3\n",
    "elif heartRate < 60: # else if\n",
    "    heartIndicator = 'Below Normal'\n",
    "    heartStat=2\n",
    "else:\n",
    "    heartIndicator = 'Normal'\n",
    "    heartStat=1\n",
    "print ('heartRate is',heartIndicator,'value is ',heartRate)\n",
    "\n"
   ]
  },
  {
   "cell_type": "code",
   "execution_count": 13,
   "metadata": {},
   "outputs": [
    {
     "name": "stdout",
     "output_type": "stream",
     "text": [
      "Your Health status: Do More exercise and workouts!!!\n"
     ]
    }
   ],
   "source": [
    "# health status checking\n",
    "if (bmiStat,heartStat) == (1,1): # compare two values at a time\n",
    "    healthIndicator='Normal'\n",
    "else:\n",
    "    healthIndicator='Do More exercise and workouts!!!'\n",
    "\n",
    "print ('Your Health status:',healthIndicator)\n",
    "\n"
   ]
  },
  {
   "cell_type": "code",
   "execution_count": 14,
   "metadata": {},
   "outputs": [
    {
     "name": "stdout",
     "output_type": "stream",
     "text": [
      "1\n",
      "2\n",
      "3\n",
      "4\n",
      "5\n",
      "6\n",
      "7\n",
      "8\n",
      "9\n",
      "1\n",
      "3\n",
      "5\n",
      "7\n",
      "9\n",
      "10\n",
      "8\n",
      "6\n",
      "4\n",
      "2\n",
      "10\n",
      "9\n",
      "8\n",
      "7\n",
      "6\n",
      "5\n",
      "4\n",
      "3\n",
      "2\n"
     ]
    }
   ],
   "source": [
    "# for loops\n",
    "#for i in 1,10:print (i) # print each as element\n",
    "for i in range(1,10):print (i) # print 1 to 9, loops break\n",
    "for i in range(1,10,2):print (i) # print 1 to 9, jump 2 steps\n",
    "for i in range(10,1,-2):print (i) # print 10 to 1, jump 2 steps\n",
    "for i in range(10,1,-1):print (i) # print 10 to 1, jump 1 steps\n",
    "\n"
   ]
  },
  {
   "cell_type": "code",
   "execution_count": 15,
   "metadata": {},
   "outputs": [
    {
     "name": "stdout",
     "output_type": "stream",
     "text": [
      "W\n",
      "e\n",
      "l\n",
      "c\n",
      "o\n",
      "m\n",
      "e\n",
      " \n",
      "t\n",
      "o\n",
      " \n",
      "P\n",
      "y\n",
      "t\n",
      "h\n",
      "o\n",
      "n\n",
      "Welcome to Python"
     ]
    }
   ],
   "source": [
    "sentence='Welcome to Python' # for loop for strings\n",
    "for char in sentence:print (char) # char per line\n",
    "for char in sentence:print (char,end='') # end will supress the new line"
   ]
  },
  {
   "cell_type": "code",
   "execution_count": 16,
   "metadata": {},
   "outputs": [
    {
     "name": "stdout",
     "output_type": "stream",
     "text": [
      "11\n",
      "21\n",
      "31\n",
      "41\n",
      "51\n",
      "61\n",
      "71\n",
      "81\n",
      "91\n",
      "101\n"
     ]
    }
   ],
   "source": [
    "#for loop for list\n",
    "Scores=[11,21,31,41,51,61,71,81,91,101] # for loop for list\n",
    "for score in (Scores): print (score)\n",
    "\n"
   ]
  },
  {
   "cell_type": "code",
   "execution_count": 17,
   "metadata": {},
   "outputs": [
    {
     "name": "stdout",
     "output_type": "stream",
     "text": [
      "<class 'tuple'>\n",
      "dhone\n",
      "45\n",
      "55\n"
     ]
    }
   ],
   "source": [
    "#for loop for tuple\n",
    "scores=('dhone',45,55)\n",
    "print (type(scores)) # to get the type of the object\n",
    "for score in scores:print (score)\n",
    "\n"
   ]
  },
  {
   "cell_type": "code",
   "execution_count": 18,
   "metadata": {},
   "outputs": [
    {
     "name": "stdout",
     "output_type": "stream",
     "text": [
      "Dhoni\n",
      "Rohit\n",
      "Ashwin\n",
      "Dhoni 35\n",
      "Rohit 30\n",
      "Ashwin 29\n"
     ]
    }
   ],
   "source": [
    "#for loop for dictionary\n",
    "age={'Dhoni':35,'Rohit':30,'Ashwin':29}\n",
    "for player in age:print (player) # print the key\n",
    "for player in age:print (player,age[player]) # print both key and value\n",
    "\n",
    "\n"
   ]
  },
  {
   "cell_type": "code",
   "execution_count": 19,
   "metadata": {},
   "outputs": [
    {
     "name": "stdout",
     "output_type": "stream",
     "text": [
      "1\n",
      "2\n",
      "3\n"
     ]
    }
   ],
   "source": [
    "#for with break\n",
    "orders=[1,2,3,4,5,6,7,8,9,10]\n",
    "for order in orders:\n",
    "    print (order)\n",
    "    if order == 3:\n",
    "        break"
   ]
  },
  {
   "cell_type": "code",
   "execution_count": 20,
   "metadata": {},
   "outputs": [
    {
     "name": "stdout",
     "output_type": "stream",
     "text": [
      "1\n",
      "2\n",
      "4\n",
      "5\n",
      "6\n",
      "7\n",
      "8\n",
      "9\n",
      "10\n"
     ]
    }
   ],
   "source": [
    "#for with continue\n",
    "orders=[1,2,3,4,5,6,7,8,9,10]\n",
    "for order in orders:\n",
    "    if order == 3:\n",
    "        continue\n",
    "    print(order)"
   ]
  },
  {
   "cell_type": "code",
   "execution_count": 21,
   "metadata": {},
   "outputs": [
    {
     "name": "stdout",
     "output_type": "stream",
     "text": [
      "Hello\n",
      "Do you want to continue...Enter Y or Ny\n",
      "Hello\n",
      "Do you want to continue...Enter Y or Nn\n"
     ]
    }
   ],
   "source": [
    "# while loop\n",
    "printmyname='Y'\n",
    "while (printmyname in ('Y?y')): # check the usage of in\n",
    "    print ('Hello')\n",
    "    printmyname = input('Do you want to continue...Enter Y or N')\n",
    "\n"
   ]
  },
  {
   "cell_type": "code",
   "execution_count": 22,
   "metadata": {},
   "outputs": [
    {
     "name": "stdout",
     "output_type": "stream",
     "text": [
      "1\n",
      "2\n",
      "4\n"
     ]
    }
   ],
   "source": [
    "#defining functions\n",
    "# finonnaci = 0+1+1+2+3+5+8+13...\n",
    "def fibonnaci(getnum): # defining function and passing arguments\n",
    "    prev=0\n",
    "    curr=1\n",
    "    while (curr<getnum):\n",
    "        #print (curr)\n",
    "        print (curr)\n",
    "        prev=curr\n",
    "        curr=curr+prev\n",
    "      \n",
    "        \n",
    "fibonnaci(5) # calling function"
   ]
  },
  {
   "cell_type": "code",
   "execution_count": 23,
   "metadata": {},
   "outputs": [
    {
     "name": "stdout",
     "output_type": "stream",
     "text": [
      "('BMI is ', 'Above Normal', ' value is ', 86.56509695290859)\n"
     ]
    }
   ],
   "source": [
    "#default values\n",
    "# bmi calculator as function and with default values\n",
    "def find_bmi(Weight=100,Height=6):\n",
    "    bmi=Weight/((Height*.304)**2) # formula is W/M^2\n",
    "    if bmi > 24.9: # if statement :\n",
    "        bmiIndicator = 'Above Normal'\n",
    "        bmiStat=3\n",
    "    elif bmi < 18.5:        # else if\n",
    "        bmiIndicator = 'Below Normal'\n",
    "        bmiStat=2\n",
    "    else:\n",
    "        bmiIndicator='Normal'\n",
    "        bmiStat=1\n",
    "    return ('BMI is ',bmiIndicator,' value is ',bmi) # return value\n",
    "\n",
    "#print (\"both given\",find_bmi(79,5.6)) # call one\n",
    "#print (\"only weight\",find_bmi(79)) # call with only weight, height=6\n",
    "#print (\"none\",find_bmi()) # call with only weight, height=6\n",
    "print (find_bmi(Height=5,Weight=200)) # keyword arguments\n",
    "\n"
   ]
  },
  {
   "cell_type": "code",
   "execution_count": 24,
   "metadata": {},
   "outputs": [
    {
     "name": "stdout",
     "output_type": "stream",
     "text": [
      "10\n"
     ]
    }
   ],
   "source": [
    "#lambda expression\n",
    "#lambda expression , sum of two numbers\n",
    "sum = lambda num1,num2:num1+num2\n",
    "print (sum(5,5))"
   ]
  },
  {
   "cell_type": "code",
   "execution_count": null,
   "metadata": {},
   "outputs": [],
   "source": [
    "#Celsius to Fahrenheit \n",
    "tempinfarenheit = lambda num:(num*1.8)+32\n",
    "print (tempinfarenheit(32))"
   ]
  },
  {
   "cell_type": "code",
   "execution_count": 25,
   "metadata": {},
   "outputs": [
    {
     "name": "stdout",
     "output_type": "stream",
     "text": [
      "89.6\n"
     ]
    }
   ],
   "source": [
    "#Celsius to Fahrenheit \n",
    "tempinfarenheit = lambda num:(num*1.8)+32\n",
    "print (tempinfarenheit(32))\n",
    "\n"
   ]
  },
  {
   "cell_type": "code",
   "execution_count": 26,
   "metadata": {},
   "outputs": [
    {
     "name": "stdout",
     "output_type": "stream",
     "text": [
      "5\n",
      "4\n",
      "3\n",
      "2\n",
      "120\n"
     ]
    }
   ],
   "source": [
    "#find the factorial using recursive function\n",
    "def factorial(getnum):\n",
    "    if getnum == 1:\n",
    "        return 1\n",
    "    print (getnum)\n",
    "    return (getnum*factorial(getnum-1))\n",
    "print (factorial(5))"
   ]
  },
  {
   "cell_type": "code",
   "execution_count": 27,
   "metadata": {},
   "outputs": [
    {
     "name": "stdout",
     "output_type": "stream",
     "text": [
      "5\n",
      "4\n",
      "3\n",
      "2\n",
      "15\n"
     ]
    }
   ],
   "source": [
    "# fib from to bottom\n",
    "def fibrecur(getnum):\n",
    "    if (getnum <=1 ):\n",
    "        return 1\n",
    "    print (getnum)\n",
    "    return getnum+(fibrecur(getnum-1))\n",
    "print (fibrecur(5))"
   ]
  },
  {
   "cell_type": "code",
   "execution_count": 29,
   "metadata": {},
   "outputs": [
    {
     "name": "stdout",
     "output_type": "stream",
     "text": [
      "Dhoni 35 45\n",
      "Rohit 30 40\n",
      "Ashwin 29 50\n"
     ]
    }
   ],
   "source": [
    "#for loop for dictionary\n",
    "scores=[{'Dhoni':(35,45)},{'Rohit':(30,40)},{'Ashwin':(29,50)}]\n",
    "for score in scores:\n",
    "    aa=score\n",
    "    for jj in aa:print (jj,aa[jj][0],aa[jj][1])\n",
    "    #print (aa)\n",
    "    #print (score[0]) # print the key\n",
    "\n"
   ]
  },
  {
   "cell_type": "code",
   "execution_count": null,
   "metadata": {},
   "outputs": [],
   "source": []
  },
  {
   "cell_type": "code",
   "execution_count": null,
   "metadata": {},
   "outputs": [],
   "source": []
  }
 ],
 "metadata": {
  "kernelspec": {
   "display_name": "Python 3",
   "language": "python",
   "name": "python3"
  },
  "language_info": {
   "codemirror_mode": {
    "name": "ipython",
    "version": 3
   },
   "file_extension": ".py",
   "mimetype": "text/x-python",
   "name": "python",
   "nbconvert_exporter": "python",
   "pygments_lexer": "ipython3",
   "version": "3.7.1"
  }
 },
 "nbformat": 4,
 "nbformat_minor": 2
}
