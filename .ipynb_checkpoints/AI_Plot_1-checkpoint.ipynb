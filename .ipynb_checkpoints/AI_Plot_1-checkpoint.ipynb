{
 "cells": [
  {
   "cell_type": "code",
   "execution_count": 11,
   "metadata": {},
   "outputs": [
    {
     "data": {
      "text/plain": [
       "\"\\n# Visualization\\n# Scatter plot\\nimport matplotlib as mpl\\nimport matplotlib.pyplot as plt\\nimport seaborn as sns\\nfrom IPython import get_ipython\\nget_ipython().run_line_magic('matplotlib', 'inline')\\nplt.show(block=True)\\nsns.pairplot(dataset)\\n\\nsns.pairplot(dataset, x_vars=['Total Fat','Carbohydrates','Protein'],y_vars='Calories', kind = 'reg')\\n\\n# From scatter plots we can see linear relationships between calories and other variable\\n# Lets see corrplots\\ncor = dataset.corr()\\nprint(cor)\\nsns.heatmap(cor,square=True)\\n# From corrplot we can see total fat,carbohydrates and protein has high positive correlation\\n# Split data into train and test\\nimport sklearn\\nfrom sklearn.model_selection import train_test_split\\nX = dataset.loc[:,['Total Fat', 'Carbohydrates','Protein']]\\ny = dataset.loc[:,'Calories']\\ny.head()\\nX_train, X_test, y_train, y_test = train_test_split(X, y, test_size=0.30, random_state=42)\\nX_train.shape , X_test.shape, y_train.shape, y_test.shape\\n# # Linear Regression Model\\n##Sklearn\\n# import model\\nfrom sklearn.linear_model import LinearRegression\\n# instantiate\\nlinreg = LinearRegression()\\n# fit the model to the training data (learn the coefficients)\\nlinreg.fit(X_train, y_train)\\n# Intercept and Coefficients\\nprint(linreg.intercept_)\\nprint(linreg.coef_)\\n# Predictions\\n# make predictions on the testing set\\ny_pred = linreg.predict(X_test)\\nfrom sklearn import metrics\\nprint(np.sqrt(metrics.mean_squared_error(y_test, y_pred)))\\n# # Accuracy\\n# R^2 Value\\nlinreg.score(X,y)\\n# ~100% accuracy.! \\n# R^2 of 0.999(1) means that the independent variables(Total.Fat, Protein, Carbohydrates) are able to explain almost 100% of variance in Calories.\\n\""
      ]
     },
     "execution_count": 11,
     "metadata": {},
     "output_type": "execute_result"
    }
   ],
   "source": [
    "\n",
    "# coding: utf-8\n",
    "\n",
    "# # McDonald's Menu Dataset \n",
    "# The data consists of nutrients value of all the items that are served @McDonald's Outlets. \n",
    "# The dataset is taken from kaggle.\n",
    "\n",
    "# # Load data\n",
    "\n",
    "# In[1]:\n",
    "\n",
    "\n",
    "import numpy as np\n",
    "import pandas as pd\n",
    "data = pd.read_csv(\"/Users/siva/GitHub/Python-AI/menu.csv\")\n",
    "\n",
    "data.head(5)\n",
    "data.shape\n",
    "# There are 260 rows and 24 columns\n",
    "# Check for missing values\n",
    "data.isnull().sum()\n",
    "# There are no missing values\n",
    "data.describe()\n",
    "# Some variables with daily values and item size, category, etc are not necessary for us. lets drop them.\n",
    "dataset = data.loc[:,['Calories','Total Fat','Cholesterol','Sodium','Carbohydrates','Dietary Fiber','Sugars','Protein']]\n",
    "dataset.head()\n",
    "# Visualization\n",
    "# Scatter plot\n",
    "import matplotlib as mpl\n",
    "import matplotlib.pyplot as plt\n",
    "import seaborn as sns\n",
    "from IPython import get_ipython\n",
    "get_ipython().run_line_magic('matplotlib', 'inline')\n",
    "plt.show(block=True)\n",
    "sns.pairplot(dataset)\n",
    "\n",
    "sns.pairplot(dataset, x_vars=['Total Fat','Carbohydrates','Protein'],y_vars='Calories', kind = 'reg')\n",
    "\n",
    "# From scatter plots we can see linear relationships between calories and other variable\n",
    "# Lets see corrplots\n",
    "cor = dataset.corr()\n",
    "print(cor)\n",
    "sns.heatmap(cor,square=True)\n",
    "# From corrplot we can see total fat,carbohydrates and protein has high positive correlation\n",
    "# Split data into train and test\n",
    "import sklearn\n",
    "from sklearn.model_selection import train_test_split\n",
    "X = dataset.loc[:,['Total Fat', 'Carbohydrates','Protein']]\n",
    "y = dataset.loc[:,'Calories']\n",
    "y.head()\n",
    "X_train, X_test, y_train, y_test = train_test_split(X, y, test_size=0.30, random_state=42)\n",
    "X_train.shape , X_test.shape, y_train.shape, y_test.shape\n",
    "# # Linear Regression Model\n",
    "##Sklearn\n",
    "# import model\n",
    "from sklearn.linear_model import LinearRegression\n",
    "# instantiate\n",
    "linreg = LinearRegression()\n",
    "# fit the model to the training data (learn the coefficients)\n",
    "linreg.fit(X_train, y_train)\n",
    "# Intercept and Coefficients\n",
    "print(linreg.intercept_)\n",
    "print(linreg.coef_)\n",
    "# Predictions\n",
    "# make predictions on the testing set\n",
    "y_pred = linreg.predict(X_test)\n",
    "from sklearn import metrics\n",
    "print(np.sqrt(metrics.mean_squared_error(y_test, y_pred)))\n",
    "# # Accuracy\n",
    "# R^2 Value\n",
    "linreg.score(X,y)\n",
    "# ~100% accuracy.! \n",
    "# R^2 of 0.999(1) means that the independent variables(Total.Fat, Protein, Carbohydrates) are able to explain almost 100% of variance in Calories."
   ]
  },
  {
   "cell_type": "code",
   "execution_count": null,
   "metadata": {},
   "outputs": [],
   "source": []
  },
  {
   "cell_type": "code",
   "execution_count": null,
   "metadata": {},
   "outputs": [],
   "source": []
  }
 ],
 "metadata": {
  "kernelspec": {
   "display_name": "Python 3",
   "language": "python",
   "name": "python3"
  },
  "language_info": {
   "codemirror_mode": {
    "name": "ipython",
    "version": 3
   },
   "file_extension": ".py",
   "mimetype": "text/x-python",
   "name": "python",
   "nbconvert_exporter": "python",
   "pygments_lexer": "ipython3",
   "version": "3.7.1"
  }
 },
 "nbformat": 4,
 "nbformat_minor": 2
}
